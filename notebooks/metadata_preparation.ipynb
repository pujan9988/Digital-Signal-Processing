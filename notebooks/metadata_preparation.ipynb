{
 "cells": [
  {
   "cell_type": "markdown",
   "id": "42247e95",
   "metadata": {},
   "source": [
    "### CREATION OF CSV FILE FOR DATASET\n",
    "\n",
    "##### FIRSTLY, creating file_name and gender as columns"
   ]
  },
  {
   "cell_type": "code",
   "execution_count": 3,
   "id": "6574dbc1",
   "metadata": {},
   "outputs": [],
   "source": [
    "import numpy as np \n",
    "import pandas as pd \n",
    "import matplotlib.pyplot as plt\n",
    "import seaborn as sns\n",
    "from pathlib import Path"
   ]
  },
  {
   "cell_type": "code",
   "execution_count": null,
   "id": "a81b7a7a",
   "metadata": {},
   "outputs": [],
   "source": []
  },
  {
   "cell_type": "code",
   "execution_count": 31,
   "id": "51efd553",
   "metadata": {},
   "outputs": [],
   "source": [
    "male_dir:Path = Path(\"/home/pujan/D/projects/dsp/datasets/male voice/\")\n",
    "female_dir:Path = Path(\"/home/pujan/D/projects/dsp/datasets/female voice/\")\n",
    "\n",
    "all_data = {\"file_name\":[file.name for file in male_dir.iterdir() if file.is_file()] + [file.name for file in female_dir.iterdir() if file.is_file()],\n",
    "             \"gender\":[\"male\" for file in male_dir.iterdir() if file.is_file()] + [\"female\" for file in female_dir.iterdir() if file.is_file()]}\n",
    "\n"
   ]
  },
  {
   "cell_type": "code",
   "execution_count": 34,
   "id": "0e9bba58",
   "metadata": {},
   "outputs": [],
   "source": [
    "df = pd.DataFrame(all_data)"
   ]
  },
  {
   "cell_type": "code",
   "execution_count": 36,
   "id": "4d7353c8",
   "metadata": {},
   "outputs": [
    {
     "data": {
      "text/html": [
       "<div>\n",
       "<style scoped>\n",
       "    .dataframe tbody tr th:only-of-type {\n",
       "        vertical-align: middle;\n",
       "    }\n",
       "\n",
       "    .dataframe tbody tr th {\n",
       "        vertical-align: top;\n",
       "    }\n",
       "\n",
       "    .dataframe thead th {\n",
       "        text-align: right;\n",
       "    }\n",
       "</style>\n",
       "<table border=\"1\" class=\"dataframe\">\n",
       "  <thead>\n",
       "    <tr style=\"text-align: right;\">\n",
       "      <th></th>\n",
       "      <th>file_name</th>\n",
       "      <th>gender</th>\n",
       "    </tr>\n",
       "  </thead>\n",
       "  <tbody>\n",
       "    <tr>\n",
       "      <th>0</th>\n",
       "      <td>7159862176919548258.wav</td>\n",
       "      <td>male</td>\n",
       "    </tr>\n",
       "    <tr>\n",
       "      <th>1</th>\n",
       "      <td>13394269605176372148.wav</td>\n",
       "      <td>male</td>\n",
       "    </tr>\n",
       "    <tr>\n",
       "      <th>2</th>\n",
       "      <td>17562067154452877054.wav</td>\n",
       "      <td>male</td>\n",
       "    </tr>\n",
       "    <tr>\n",
       "      <th>3</th>\n",
       "      <td>11846076079276902855.wav</td>\n",
       "      <td>male</td>\n",
       "    </tr>\n",
       "    <tr>\n",
       "      <th>4</th>\n",
       "      <td>4490555107572319616.wav</td>\n",
       "      <td>male</td>\n",
       "    </tr>\n",
       "  </tbody>\n",
       "</table>\n",
       "</div>"
      ],
      "text/plain": [
       "                  file_name gender\n",
       "0   7159862176919548258.wav   male\n",
       "1  13394269605176372148.wav   male\n",
       "2  17562067154452877054.wav   male\n",
       "3  11846076079276902855.wav   male\n",
       "4   4490555107572319616.wav   male"
      ]
     },
     "execution_count": 36,
     "metadata": {},
     "output_type": "execute_result"
    }
   ],
   "source": [
    "df.head()"
   ]
  },
  {
   "cell_type": "code",
   "execution_count": 38,
   "id": "507abbf8",
   "metadata": {},
   "outputs": [],
   "source": [
    "df.to_csv(\"metadata.csv\",index=False)"
   ]
  },
  {
   "cell_type": "code",
   "execution_count": null,
   "id": "c838a6c2",
   "metadata": {},
   "outputs": [],
   "source": []
  }
 ],
 "metadata": {
  "kernelspec": {
   "display_name": ".venv",
   "language": "python",
   "name": "python3"
  },
  "language_info": {
   "codemirror_mode": {
    "name": "ipython",
    "version": 3
   },
   "file_extension": ".py",
   "mimetype": "text/x-python",
   "name": "python",
   "nbconvert_exporter": "python",
   "pygments_lexer": "ipython3",
   "version": "3.11.2"
  }
 },
 "nbformat": 4,
 "nbformat_minor": 5
}
